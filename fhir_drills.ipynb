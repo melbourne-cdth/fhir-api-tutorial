{
 "cells": [
  {
   "cell_type": "markdown",
   "metadata": {},
   "source": [
    "Architecture of a FHIR app:\n",
    "![image](https://cdn-images-1.medium.com/max/1200/1*qRd-H-cPHAGTB993sNLy3Q.png)\n",
    "(from https://blog.heliossoftware.com/fhir-architectural-patterns-ae828b13d40c)"
   ]
  },
  {
   "cell_type": "markdown",
   "metadata": {},
   "source": [
    "## Initialize the environment to run the application"
   ]
  },
  {
   "cell_type": "code",
   "execution_count": null,
   "metadata": {},
   "outputs": [],
   "source": [
    "# Import the client library that understands how to make FHIR calls and \n",
    "# interpret the results\n",
    "#  Then print 'FHIR client library has been loaded'\n",
    "from fhirclient import client\n",
    "print('FHIR client library has been loaded')"
   ]
  },
  {
   "cell_type": "markdown",
   "metadata": {},
   "source": [
    "## Find a patient with relevant variables"
   ]
  },
  {
   "cell_type": "code",
   "execution_count": null,
   "metadata": {},
   "outputs": [],
   "source": [
    "import requests"
   ]
  },
  {
   "cell_type": "code",
   "execution_count": null,
   "metadata": {},
   "outputs": [],
   "source": [
    "FHIRJSONMimeType = 'application/fhir+json'\n",
    "header_defaults = {\n",
    "            'Accept': FHIRJSONMimeType,\n",
    "            'Accept-Charset': 'UTF-8',\n",
    "        }"
   ]
  },
  {
   "cell_type": "markdown",
   "metadata": {},
   "source": [
    "*Hint: Use the URL https://hapi.fhir.org/baseR4/[resource]?code=[loinc]*\n",
    "\n",
    "Here we will use patient 431798"
   ]
  },
  {
   "cell_type": "code",
   "execution_count": null,
   "metadata": {},
   "outputs": [],
   "source": [
    "patientId = \"21f4e9f6-ec3c-405d-97c3-4e69d1534af2\""
   ]
  },
  {
   "cell_type": "markdown",
   "metadata": {},
   "source": [
    "## Load the data and get basic demographics"
   ]
  },
  {
   "cell_type": "code",
   "execution_count": null,
   "metadata": {},
   "outputs": [],
   "source": [
    "r = requests.get('https://stu3.test.pyrohealth.net/fhir/Patient/21f4e9f6-ec3c-405d-97c3-4e69d1534af2',\n",
    "                 headers = header_defaults)"
   ]
  },
  {
   "cell_type": "code",
   "execution_count": null,
   "metadata": {},
   "outputs": [],
   "source": [
    "body = r.json()"
   ]
  },
  {
   "cell_type": "code",
   "execution_count": null,
   "metadata": {},
   "outputs": [],
   "source": [
    "type(body)"
   ]
  },
  {
   "cell_type": "code",
   "execution_count": null,
   "metadata": {},
   "outputs": [],
   "source": [
    "# Load the Patient from the database, and display demographics\n",
    "#   Define the FHIR Endpoint. We define the name of this app (used in SMART \n",
    "#   calls), and the location of the server\n",
    "settings = {\n",
    "    'app_id': 'my_web_app',\n",
    "    'api_base': 'https://stu3.test.pyrohealth.net/fhir'\n",
    "}\n",
    "\n"
   ]
  },
  {
   "cell_type": "code",
   "execution_count": null,
   "metadata": {},
   "outputs": [],
   "source": [
    "# Create an instance of the FHIR client that points to this FHIR server. We use \n",
    "# this to make the calls.\n",
    "db = client.FHIRClient(settings=settings)"
   ]
  },
  {
   "cell_type": "code",
   "execution_count": null,
   "metadata": {},
   "outputs": [],
   "source": [
    "# Perform a GET (read) on the patient with the ID you identified earlier\n",
    "from fhirclient.models.patient import Patient\n",
    "patient = Patient.read(patientId, db.server)"
   ]
  },
  {
   "cell_type": "code",
   "execution_count": null,
   "metadata": {},
   "outputs": [],
   "source": [
    "patient.as_json()"
   ]
  },
  {
   "cell_type": "markdown",
   "metadata": {},
   "source": [
    "## *Optional: get basic demographics*"
   ]
  },
  {
   "cell_type": "code",
   "execution_count": null,
   "metadata": {},
   "outputs": [],
   "source": [
    "# Patient name. \n",
    "# Show the name object so we can see what's in it\n",
    "print(patient.name)"
   ]
  },
  {
   "cell_type": "markdown",
   "metadata": {},
   "source": [
    "The patient's name is a list of `HumanName`s. We can find out about the structure of this data type on the FHIR website: https://www.hl7.org/fhir/datatypes.html#HumanName"
   ]
  },
  {
   "cell_type": "code",
   "execution_count": null,
   "metadata": {},
   "outputs": [],
   "source": [
    "# Show the contents of each object in the list\n",
    "for name in patient.name:\n",
    "    print(name.as_json())"
   ]
  },
  {
   "cell_type": "code",
   "execution_count": null,
   "metadata": {},
   "outputs": [],
   "source": [
    "# We see that a Patient can have more than one name (i.e. Patient.name is a list)\n",
    "# and each name can have more than one given name (i.e. given is also a list).\n",
    "# Let's use the first name in the list and the first given name:\n",
    "first_name = patient.name[0].given[0]\n",
    "last_name = patient.name[0].family\n",
    "print(first_name, last_name)"
   ]
  },
  {
   "cell_type": "code",
   "execution_count": null,
   "metadata": {},
   "outputs": [],
   "source": [
    "# Patient's gender\n",
    "gender = patient.gender\n",
    "gender"
   ]
  },
  {
   "cell_type": "code",
   "execution_count": null,
   "metadata": {},
   "outputs": [],
   "source": [
    "# Define variable dob as the patient's date of birth\n",
    "dob = patient.birthDate.date\n",
    "print(dob)"
   ]
  },
  {
   "cell_type": "code",
   "execution_count": null,
   "metadata": {},
   "outputs": [],
   "source": [
    "# We'd like to know the patient's age. The EHR contains the date of birth only, \n",
    "# so we have to calculate the age using the dob and today's date.\n",
    "# For this we need the datetime library\n",
    "import datetime\n",
    "\n",
    "# Define and print today variable.\n",
    "today = datetime.date.today()\n",
    "print(today)"
   ]
  },
  {
   "cell_type": "code",
   "execution_count": null,
   "metadata": {},
   "outputs": [],
   "source": [
    "# Calculate the patient's age using the relativedelta method of the dateutil \n",
    "# module\n",
    "from dateutil.relativedelta import relativedelta\n",
    "\n",
    "delta = relativedelta(today, dob)\n",
    "age = delta.years\n",
    "age"
   ]
  },
  {
   "cell_type": "code",
   "execution_count": null,
   "metadata": {},
   "outputs": [],
   "source": [
    "# Print patient name, gender, DOB, age, and today's date\n",
    "print(\"Patient's Name(s) =\", first_name, last_name)\n",
    "print(\"Gender =\", gender)\n",
    "print(\"DOB =\", dob)\n",
    "print(\"Today's Date =\", today)\n",
    "print(\"Patient's age =\", age)"
   ]
  }
 ],
 "metadata": {
  "anaconda-cloud": {},
  "kernelspec": {
   "display_name": "Python 3",
   "language": "python",
   "name": "python3"
  },
  "language_info": {
   "codemirror_mode": {
    "name": "ipython",
    "version": 3
   },
   "file_extension": ".py",
   "mimetype": "text/x-python",
   "name": "python",
   "nbconvert_exporter": "python",
   "pygments_lexer": "ipython3",
   "version": "3.8.8"
  },
  "toc": {
   "base_numbering": 1,
   "nav_menu": {},
   "number_sections": true,
   "sideBar": true,
   "skip_h1_title": false,
   "title_cell": "Table of Contents",
   "title_sidebar": "Contents",
   "toc_cell": false,
   "toc_position": {},
   "toc_section_display": true,
   "toc_window_display": true
  }
 },
 "nbformat": 4,
 "nbformat_minor": 1
}
